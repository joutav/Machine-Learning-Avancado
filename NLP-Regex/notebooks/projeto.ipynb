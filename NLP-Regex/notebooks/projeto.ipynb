{
 "metadata": {
  "language_info": {
   "codemirror_mode": {
    "name": "ipython",
    "version": 3
   },
   "file_extension": ".py",
   "mimetype": "text/x-python",
   "name": "python",
   "nbconvert_exporter": "python",
   "pygments_lexer": "ipython3",
   "version": "3.8.8-final"
  },
  "orig_nbformat": 2,
  "kernelspec": {
   "name": "python3",
   "display_name": "Python 3.8.8 64-bit ('venv')",
   "metadata": {
    "interpreter": {
     "hash": "7f61b4343ac695e5287331f2f33e49d59227fe034e7fca682dad08f077083cca"
    }
   }
  }
 },
 "nbformat": 4,
 "nbformat_minor": 2,
 "cells": [
  {
   "cell_type": "code",
   "execution_count": 15,
   "metadata": {},
   "outputs": [],
   "source": [
    "import pandas as pd\n",
    "import re"
   ]
  },
  {
   "cell_type": "code",
   "execution_count": 3,
   "metadata": {},
   "outputs": [
    {
     "output_type": "execute_result",
     "data": {
      "text/plain": [
       "      Id                                             Título  \\\n",
       "0   2402         Como fazer hash de senhas de forma segura?   \n",
       "1   6441  Qual é a diferença entre INNER JOIN e OUTER JOIN?   \n",
       "2    579  Por que não devemos usar funções do tipo mysql_*?   \n",
       "3   2539           As mensagens de erro devem se desculpar?   \n",
       "4  17501  Qual é a diferença de API, biblioteca e Framew...   \n",
       "\n",
       "                                             Questão  \\\n",
       "0  <p>Se eu fizer o <em><a href=\"http://pt.wikipe...   \n",
       "1  <p>Qual é a diferença entre <code>INNER JOIN</...   \n",
       "2  <p>Uma dúvida muito comum é por que devemos pa...   \n",
       "3  <p>É comum encontrar uma mensagem de erro que ...   \n",
       "4  <p>Me parecem termos muito próximos e eventual...   \n",
       "\n",
       "                                         Tags  Pontuação  Visualizações  \n",
       "0     <hash><segurança><senhas><criptografia>        350          22367  \n",
       "1                                 <sql><join>        276         176953  \n",
       "2                                <php><mysql>        226           9761  \n",
       "3           <aplicação-web><gui><console><ux>        214           5075  \n",
       "4  <api><framework><terminologia><biblioteca>        193          54191  "
      ],
      "text/html": "<div>\n<style scoped>\n    .dataframe tbody tr th:only-of-type {\n        vertical-align: middle;\n    }\n\n    .dataframe tbody tr th {\n        vertical-align: top;\n    }\n\n    .dataframe thead th {\n        text-align: right;\n    }\n</style>\n<table border=\"1\" class=\"dataframe\">\n  <thead>\n    <tr style=\"text-align: right;\">\n      <th></th>\n      <th>Id</th>\n      <th>Título</th>\n      <th>Questão</th>\n      <th>Tags</th>\n      <th>Pontuação</th>\n      <th>Visualizações</th>\n    </tr>\n  </thead>\n  <tbody>\n    <tr>\n      <th>0</th>\n      <td>2402</td>\n      <td>Como fazer hash de senhas de forma segura?</td>\n      <td>&lt;p&gt;Se eu fizer o &lt;em&gt;&lt;a href=\"http://pt.wikipe...</td>\n      <td>&lt;hash&gt;&lt;segurança&gt;&lt;senhas&gt;&lt;criptografia&gt;</td>\n      <td>350</td>\n      <td>22367</td>\n    </tr>\n    <tr>\n      <th>1</th>\n      <td>6441</td>\n      <td>Qual é a diferença entre INNER JOIN e OUTER JOIN?</td>\n      <td>&lt;p&gt;Qual é a diferença entre &lt;code&gt;INNER JOIN&lt;/...</td>\n      <td>&lt;sql&gt;&lt;join&gt;</td>\n      <td>276</td>\n      <td>176953</td>\n    </tr>\n    <tr>\n      <th>2</th>\n      <td>579</td>\n      <td>Por que não devemos usar funções do tipo mysql_*?</td>\n      <td>&lt;p&gt;Uma dúvida muito comum é por que devemos pa...</td>\n      <td>&lt;php&gt;&lt;mysql&gt;</td>\n      <td>226</td>\n      <td>9761</td>\n    </tr>\n    <tr>\n      <th>3</th>\n      <td>2539</td>\n      <td>As mensagens de erro devem se desculpar?</td>\n      <td>&lt;p&gt;É comum encontrar uma mensagem de erro que ...</td>\n      <td>&lt;aplicação-web&gt;&lt;gui&gt;&lt;console&gt;&lt;ux&gt;</td>\n      <td>214</td>\n      <td>5075</td>\n    </tr>\n    <tr>\n      <th>4</th>\n      <td>17501</td>\n      <td>Qual é a diferença de API, biblioteca e Framew...</td>\n      <td>&lt;p&gt;Me parecem termos muito próximos e eventual...</td>\n      <td>&lt;api&gt;&lt;framework&gt;&lt;terminologia&gt;&lt;biblioteca&gt;</td>\n      <td>193</td>\n      <td>54191</td>\n    </tr>\n  </tbody>\n</table>\n</div>"
     },
     "metadata": {},
     "execution_count": 3
    }
   ],
   "source": [
    "dados_portugues = pd.read_csv('../dados/stackoverflow_portugues.csv')\n",
    "dados_portugues.head()"
   ]
  },
  {
   "cell_type": "code",
   "execution_count": 10,
   "metadata": {},
   "outputs": [
    {
     "output_type": "stream",
     "name": "stdout",
     "text": [
      "<p>Desenvolvi uma página em PHP para uso interno da empresa que trabalho e apenas pouquíssimas pessoas a utilizam. Através dessa página é possível fazer algumas consultas, inserções, alterações e remoções de dados de uma tabela em um banco de dados MySQL, porém eu acredito que meu código em PHP não está protegido contra injeção de código SQL, por exemplo:</p>\n\n<pre><code>//----CONSULTA SQL----//\n$busca = mysql_query ('insert into Produtos (coluna) values(' . $valor . ')');\n</code></pre>\n\n<p>Logo, digamos que o usuário usar a sentença: <code>1); DROP TABLE Produtos;</code> para ao campo <code>valor</code> o comando ficaria: </p>\n\n<pre><code>insert into Produtos (coluna) values(1); DROP TABLE Produtos;\n</code></pre>\n\n<p>Ele vai inserir um novo registro cujo o campo <code>coluna</code> será <code>1</code> e logo em seguida ele vai deletar a tabela Produtos.</p>\n\n<p>Como posso melhorar meu código para prevenir essa situação?</p>\n\n"
     ]
    }
   ],
   "source": [
    "questao_portugues = dados_portugues['Questão'][5]\n",
    "print(questao_portugues)"
   ]
  },
  {
   "source": [
    "# Muitas tags, deve-se remover as tags \n",
    "# trexos de código são normalmente em ingles, isso enviesará o modelo a lingua inglesa. Deve ser removido também."
   ],
   "cell_type": "code",
   "metadata": {},
   "execution_count": 11,
   "outputs": []
  },
  {
   "cell_type": "code",
   "execution_count": 7,
   "metadata": {},
   "outputs": [
    {
     "output_type": "execute_result",
     "data": {
      "text/plain": [
       "         Id                                             Título  \\\n",
       "0  11227809  Why is it faster to process a sorted array tha...   \n",
       "1    927358  How do I undo the most recent local commits in...   \n",
       "2   2003505  How do I delete a Git branch locally and remot...   \n",
       "3    292357  What is the difference between 'git pull' and ...   \n",
       "4    477816             What is the correct JSON content type?   \n",
       "\n",
       "                                             Questão  \\\n",
       "0  <p>Here is a piece of C++ code that seems very...   \n",
       "1  <p>I accidentally committed the wrong files to...   \n",
       "2  <p>I want to delete a branch both locally and ...   \n",
       "3  <blockquote>\\n  <p><strong>Moderator Note:</st...   \n",
       "4  <p>I've been messing around with <a href=\"http...   \n",
       "\n",
       "                                                Tags  Pontuação  Visualizações  \n",
       "0  <java><c++><performance><optimization><branch-...      23057        1358574  \n",
       "1           <git><version-control><git-commit><undo>      19640        7906137  \n",
       "2                      <git><git-branch><git-remote>      15249        6940906  \n",
       "3                         <git><git-pull><git-fetch>      11008        2543052  \n",
       "4                 <json><http-headers><content-type>       9701        2478940  "
      ],
      "text/html": "<div>\n<style scoped>\n    .dataframe tbody tr th:only-of-type {\n        vertical-align: middle;\n    }\n\n    .dataframe tbody tr th {\n        vertical-align: top;\n    }\n\n    .dataframe thead th {\n        text-align: right;\n    }\n</style>\n<table border=\"1\" class=\"dataframe\">\n  <thead>\n    <tr style=\"text-align: right;\">\n      <th></th>\n      <th>Id</th>\n      <th>Título</th>\n      <th>Questão</th>\n      <th>Tags</th>\n      <th>Pontuação</th>\n      <th>Visualizações</th>\n    </tr>\n  </thead>\n  <tbody>\n    <tr>\n      <th>0</th>\n      <td>11227809</td>\n      <td>Why is it faster to process a sorted array tha...</td>\n      <td>&lt;p&gt;Here is a piece of C++ code that seems very...</td>\n      <td>&lt;java&gt;&lt;c++&gt;&lt;performance&gt;&lt;optimization&gt;&lt;branch-...</td>\n      <td>23057</td>\n      <td>1358574</td>\n    </tr>\n    <tr>\n      <th>1</th>\n      <td>927358</td>\n      <td>How do I undo the most recent local commits in...</td>\n      <td>&lt;p&gt;I accidentally committed the wrong files to...</td>\n      <td>&lt;git&gt;&lt;version-control&gt;&lt;git-commit&gt;&lt;undo&gt;</td>\n      <td>19640</td>\n      <td>7906137</td>\n    </tr>\n    <tr>\n      <th>2</th>\n      <td>2003505</td>\n      <td>How do I delete a Git branch locally and remot...</td>\n      <td>&lt;p&gt;I want to delete a branch both locally and ...</td>\n      <td>&lt;git&gt;&lt;git-branch&gt;&lt;git-remote&gt;</td>\n      <td>15249</td>\n      <td>6940906</td>\n    </tr>\n    <tr>\n      <th>3</th>\n      <td>292357</td>\n      <td>What is the difference between 'git pull' and ...</td>\n      <td>&lt;blockquote&gt;\\n  &lt;p&gt;&lt;strong&gt;Moderator Note:&lt;/st...</td>\n      <td>&lt;git&gt;&lt;git-pull&gt;&lt;git-fetch&gt;</td>\n      <td>11008</td>\n      <td>2543052</td>\n    </tr>\n    <tr>\n      <th>4</th>\n      <td>477816</td>\n      <td>What is the correct JSON content type?</td>\n      <td>&lt;p&gt;I've been messing around with &lt;a href=\"http...</td>\n      <td>&lt;json&gt;&lt;http-headers&gt;&lt;content-type&gt;</td>\n      <td>9701</td>\n      <td>2478940</td>\n    </tr>\n  </tbody>\n</table>\n</div>"
     },
     "metadata": {},
     "execution_count": 7
    }
   ],
   "source": [
    "dados_ingles = pd.read_csv('../dados/stackoverflow_ingles.csv')\n",
    "dados_ingles.head()"
   ]
  },
  {
   "cell_type": "code",
   "execution_count": 9,
   "metadata": {},
   "outputs": [
    {
     "output_type": "stream",
     "name": "stdout",
     "text": [
      "<p>Here is a piece of C++ code that seems very peculiar. For some strange reason, sorting the data miraculously makes the code almost six times faster.</p>\n\n<pre class=\"lang-cpp prettyprint-override\"><code>#include &lt;algorithm&gt;\n#include &lt;ctime&gt;\n#include &lt;iostream&gt;\n\nint main()\n{\n    // Generate data\n    const unsigned arraySize = 32768;\n    int data[arraySize];\n\n    for (unsigned c = 0; c &lt; arraySize; ++c)\n        data[c] = std::rand() % 256;\n\n    // !!! With this, the next loop runs faster\n    std::sort(data, data + arraySize);\n\n    // Test\n    clock_t start = clock();\n    long long sum = 0;\n\n    for (unsigned i = 0; i &lt; 100000; ++i)\n    {\n        // Primary loop\n        for (unsigned c = 0; c &lt; arraySize; ++c)\n        {\n            if (data[c] &gt;= 128)\n                sum += data[c];\n        }\n    }\n\n    double elapsedTime = static_cast&lt;double&gt;(clock() - start) / CLOCKS_PER_SEC;\n\n    std::cout &lt;&lt; elapsedTime &lt;&lt; std::endl;\n    std::cout &lt;&lt; \"sum = \" &lt;&lt; sum &lt;&lt; std::endl;\n}\n</code></pre>\n\n<ul>\n<li>Without <code>std::sort(data, data + arraySize);</code>, the code runs in 11.54 seconds.</li>\n<li>With the sorted data, the code runs in 1.93 seconds.</li>\n</ul>\n\n<p>Initially, I thought this might be just a language or compiler anomaly. So I tried it in Java.</p>\n\n<pre class=\"lang-java prettyprint-override\"><code>import java.util.Arrays;\nimport java.util.Random;\n\npublic class Main\n{\n    public static void main(String[] args)\n    {\n        // Generate data\n        int arraySize = 32768;\n        int data[] = new int[arraySize];\n\n        Random rnd = new Random(0);\n        for (int c = 0; c &lt; arraySize; ++c)\n            data[c] = rnd.nextInt() % 256;\n\n        // !!! With this, the next loop runs faster\n        Arrays.sort(data);\n\n        // Test\n        long start = System.nanoTime();\n        long sum = 0;\n\n        for (int i = 0; i &lt; 100000; ++i)\n        {\n            // Primary loop\n            for (int c = 0; c &lt; arraySize; ++c)\n            {\n                if (data[c] &gt;= 128)\n                    sum += data[c];\n            }\n        }\n\n        System.out.println((System.nanoTime() - start) / 1000000000.0);\n        System.out.println(\"sum = \" + sum);\n    }\n}\n</code></pre>\n\n<p>With a somewhat similar but less extreme result.</p>\n\n<hr>\n\n<p>My first thought was that sorting brings the data into the cache, but then I thought how silly that is because the array was just generated.</p>\n\n<ul>\n<li>What is going on?</li>\n<li>Why is it faster to process a sorted array than an unsorted array?</li>\n<li>The code is summing up some independent terms, and the order should not matter.</li>\n</ul>\n\n"
     ]
    }
   ],
   "source": [
    "questao_ingles = dados_ingles['Questão'][0]\n",
    "print(questao_ingles)"
   ]
  },
  {
   "cell_type": "code",
   "execution_count": 13,
   "metadata": {},
   "outputs": [
    {
     "output_type": "execute_result",
     "data": {
      "text/plain": [
       "      Id                                             Título  \\\n",
       "0  18232              ¿Cómo evitar la inyección SQL en PHP?   \n",
       "1    197  ¿Por qué mis programas no pueden hacer cálculo...   \n",
       "2     36  ¿Cuál es la diferencia entre un inner y un out...   \n",
       "3  29177  ¿Por qué es considerado una mala práctica util...   \n",
       "4    142  Validar un email en JavaScript que acepte todo...   \n",
       "\n",
       "                                             Questão  \\\n",
       "0  <p>Las sentencias dinámicas son sentencias SQL...   \n",
       "1  <p>Unas veces los cálculos funcionan correctam...   \n",
       "2  <p>¿Cuál es la diferencia entre un <code>inner...   \n",
       "3  <p>La mayoría de nosotros decimos, (muchas vec...   \n",
       "4  <h3>Pregunta</h3>\\n\\n<p>¿Cómo validar un e-mai...   \n",
       "\n",
       "                                                Tags  Pontuação  Visualizações  \n",
       "0        <php><mysql><sql><seguridad><inyección-sql>        169          38614  \n",
       "1   <matemáticas><coma-flotante><lenguaje-agnóstico>        141           3860  \n",
       "2                                 <mysql><sql><join>         97          53627  \n",
       "3  <variables><variables-globales><patrones-de-di...         89           9987  \n",
       "4             <javascript><validación><email><regex>         87          73129  "
      ],
      "text/html": "<div>\n<style scoped>\n    .dataframe tbody tr th:only-of-type {\n        vertical-align: middle;\n    }\n\n    .dataframe tbody tr th {\n        vertical-align: top;\n    }\n\n    .dataframe thead th {\n        text-align: right;\n    }\n</style>\n<table border=\"1\" class=\"dataframe\">\n  <thead>\n    <tr style=\"text-align: right;\">\n      <th></th>\n      <th>Id</th>\n      <th>Título</th>\n      <th>Questão</th>\n      <th>Tags</th>\n      <th>Pontuação</th>\n      <th>Visualizações</th>\n    </tr>\n  </thead>\n  <tbody>\n    <tr>\n      <th>0</th>\n      <td>18232</td>\n      <td>¿Cómo evitar la inyección SQL en PHP?</td>\n      <td>&lt;p&gt;Las sentencias dinámicas son sentencias SQL...</td>\n      <td>&lt;php&gt;&lt;mysql&gt;&lt;sql&gt;&lt;seguridad&gt;&lt;inyección-sql&gt;</td>\n      <td>169</td>\n      <td>38614</td>\n    </tr>\n    <tr>\n      <th>1</th>\n      <td>197</td>\n      <td>¿Por qué mis programas no pueden hacer cálculo...</td>\n      <td>&lt;p&gt;Unas veces los cálculos funcionan correctam...</td>\n      <td>&lt;matemáticas&gt;&lt;coma-flotante&gt;&lt;lenguaje-agnóstico&gt;</td>\n      <td>141</td>\n      <td>3860</td>\n    </tr>\n    <tr>\n      <th>2</th>\n      <td>36</td>\n      <td>¿Cuál es la diferencia entre un inner y un out...</td>\n      <td>&lt;p&gt;¿Cuál es la diferencia entre un &lt;code&gt;inner...</td>\n      <td>&lt;mysql&gt;&lt;sql&gt;&lt;join&gt;</td>\n      <td>97</td>\n      <td>53627</td>\n    </tr>\n    <tr>\n      <th>3</th>\n      <td>29177</td>\n      <td>¿Por qué es considerado una mala práctica util...</td>\n      <td>&lt;p&gt;La mayoría de nosotros decimos, (muchas vec...</td>\n      <td>&lt;variables&gt;&lt;variables-globales&gt;&lt;patrones-de-di...</td>\n      <td>89</td>\n      <td>9987</td>\n    </tr>\n    <tr>\n      <th>4</th>\n      <td>142</td>\n      <td>Validar un email en JavaScript que acepte todo...</td>\n      <td>&lt;h3&gt;Pregunta&lt;/h3&gt;\\n\\n&lt;p&gt;¿Cómo validar un e-mai...</td>\n      <td>&lt;javascript&gt;&lt;validación&gt;&lt;email&gt;&lt;regex&gt;</td>\n      <td>87</td>\n      <td>73129</td>\n    </tr>\n  </tbody>\n</table>\n</div>"
     },
     "metadata": {},
     "execution_count": 13
    }
   ],
   "source": [
    "dados_espanhol = pd.read_csv('../dados/stackoverflow_espanhol.csv')\n",
    "dados_espanhol.head()"
   ]
  },
  {
   "cell_type": "code",
   "execution_count": 14,
   "metadata": {},
   "outputs": [
    {
     "output_type": "stream",
     "name": "stdout",
     "text": [
      "<p>Las sentencias dinámicas son sentencias SQL que se crean como cadenas de texto (strings) y en las que se insertan/concatenan valores obtenidos de alguna fuente (normalmente proveniente del usuario), lo que puede hacer que sean vulnerables a inyección SQL si no se sanean las entradas, como por ejemplo:</p>\n\n<pre><code>$id_usuario = $_POST[\"id\"];\n\nmysql_query(\"SELECT * FROM usuarios WHERE id = $id_usuario\");\n</code></pre>\n\n<p>Eso es un ejemplo de una vulnerabilidad grave en la seguridad de una aplicación (web o no) porque si el usuario introdujese un valor como <code>1; DROP TABLE usuarios;--</code> nos encontraríamos con que la sentencia ejecutada sería:</p>\n\n<pre><code>SELECT * FROM usuarios WHERE id = 1; DROP TABLE usuarios;--\n</code></pre>\n\n<p>Y se eliminaría la tabla Usuarios con todos los datos contenidos en ella. </p>\n\n<p><strong>¿Cómo puedo evitar que la inyección SQL ocurra en PHP?</strong></p>\n\n"
     ]
    }
   ],
   "source": [
    "questao_espanhol = dados_espanhol['Questão'][0]\n",
    "print(questao_espanhol)"
   ]
  },
  {
   "cell_type": "code",
   "execution_count": 19,
   "metadata": {},
   "outputs": [
    {
     "output_type": "execute_result",
     "data": {
      "text/plain": [
       "['<p>',\n",
       " '</p>',\n",
       " '<pre>',\n",
       " '<code>',\n",
       " '</code>',\n",
       " '</pre>',\n",
       " '<p>',\n",
       " '<code>',\n",
       " '</code>',\n",
       " '<code>',\n",
       " '</code>',\n",
       " '</p>',\n",
       " '<pre>',\n",
       " '<code>',\n",
       " '</code>',\n",
       " '</pre>',\n",
       " '<p>',\n",
       " '<code>',\n",
       " '</code>',\n",
       " '<code>',\n",
       " '</code>',\n",
       " '</p>',\n",
       " '<p>',\n",
       " '</p>']"
      ]
     },
     "metadata": {},
     "execution_count": 19
    }
   ],
   "source": [
    "re.findall(r'<.*?>', questao_portugues)"
   ]
  },
  {
   "cell_type": "code",
   "execution_count": 20,
   "metadata": {},
   "outputs": [
    {
     "output_type": "execute_result",
     "data": {
      "text/plain": [
       "\"T-----------E-----------S-----------T-----------EDesenvolvi uma página em PHP para uso interno da empresa que trabalho e apenas pouquíssimas pessoas a utilizam. Através dessa página é possível fazer algumas consultas, inserções, alterações e remoções de dados de uma tabela em um banco de dados MySQL, porém eu acredito que meu código em PHP não está protegido contra injeção de código SQL, por exemplo:T-----------E-----------S-----------T-----------E\\n\\nT-----------E-----------S-----------T-----------ET-----------E-----------S-----------T-----------E//----CONSULTA SQL----//\\n$busca = mysql_query ('insert into Produtos (coluna) values(' . $valor . ')');\\nT-----------E-----------S-----------T-----------ET-----------E-----------S-----------T-----------E\\n\\nT-----------E-----------S-----------T-----------ELogo, digamos que o usuário usar a sentença: T-----------E-----------S-----------T-----------E1); DROP TABLE Produtos;T-----------E-----------S-----------T-----------E para ao campo T-----------E-----------S-----------T-----------EvalorT-----------E-----------S-----------T-----------E o comando ficaria: T-----------E-----------S-----------T-----------E\\n\\nT-----------E-----------S-----------T-----------ET-----------E-----------S-----------T-----------Einsert into Produtos (coluna) values(1); DROP TABLE Produtos;\\nT-----------E-----------S-----------T-----------ET-----------E-----------S-----------T-----------E\\n\\nT-----------E-----------S-----------T-----------EEle vai inserir um novo registro cujo o campo T-----------E-----------S-----------T-----------EcolunaT-----------E-----------S-----------T-----------E será T-----------E-----------S-----------T-----------E1T-----------E-----------S-----------T-----------E e logo em seguida ele vai deletar a tabela Produtos.T-----------E-----------S-----------T-----------E\\n\\nT-----------E-----------S-----------T-----------EComo posso melhorar meu código para prevenir essa situação?T-----------E-----------S-----------T-----------E\\n\""
      ]
     },
     "metadata": {},
     "execution_count": 20
    }
   ],
   "source": [
    "re.sub(r'<.*?>', 'T-----------E-----------S-----------T-----------E', questao_portugues)"
   ]
  },
  {
   "cell_type": "code",
   "execution_count": 21,
   "metadata": {},
   "outputs": [],
   "source": [
    "def remover(textos, regex):\n",
    "    if type(textos) == str:\n",
    "        return regex.sub('', textos)\n",
    "    else:\n",
    "        return [regex.sub('', texto) for texto in textos]"
   ]
  },
  {
   "cell_type": "code",
   "execution_count": 27,
   "metadata": {},
   "outputs": [],
   "source": [
    "regex_html = re.compile(r'<.*?>')\n",
    "questao_sem_tag = remover(questao_ingles, regex_html)"
   ]
  },
  {
   "cell_type": "code",
   "execution_count": 28,
   "metadata": {},
   "outputs": [
    {
     "output_type": "stream",
     "name": "stdout",
     "text": [
      "Here is a piece of C++ code that seems very peculiar. For some strange reason, sorting the data miraculously makes the code almost six times faster.\n\n#include &lt;algorithm&gt;\n#include &lt;ctime&gt;\n#include &lt;iostream&gt;\n\nint main()\n{\n    // Generate data\n    const unsigned arraySize = 32768;\n    int data[arraySize];\n\n    for (unsigned c = 0; c &lt; arraySize; ++c)\n        data[c] = std::rand() % 256;\n\n    // !!! With this, the next loop runs faster\n    std::sort(data, data + arraySize);\n\n    // Test\n    clock_t start = clock();\n    long long sum = 0;\n\n    for (unsigned i = 0; i &lt; 100000; ++i)\n    {\n        // Primary loop\n        for (unsigned c = 0; c &lt; arraySize; ++c)\n        {\n            if (data[c] &gt;= 128)\n                sum += data[c];\n        }\n    }\n\n    double elapsedTime = static_cast&lt;double&gt;(clock() - start) / CLOCKS_PER_SEC;\n\n    std::cout &lt;&lt; elapsedTime &lt;&lt; std::endl;\n    std::cout &lt;&lt; \"sum = \" &lt;&lt; sum &lt;&lt; std::endl;\n}\n\n\n\nWithout std::sort(data, data + arraySize);, the code runs in 11.54 seconds.\nWith the sorted data, the code runs in 1.93 seconds.\n\n\nInitially, I thought this might be just a language or compiler anomaly. So I tried it in Java.\n\nimport java.util.Arrays;\nimport java.util.Random;\n\npublic class Main\n{\n    public static void main(String[] args)\n    {\n        // Generate data\n        int arraySize = 32768;\n        int data[] = new int[arraySize];\n\n        Random rnd = new Random(0);\n        for (int c = 0; c &lt; arraySize; ++c)\n            data[c] = rnd.nextInt() % 256;\n\n        // !!! With this, the next loop runs faster\n        Arrays.sort(data);\n\n        // Test\n        long start = System.nanoTime();\n        long sum = 0;\n\n        for (int i = 0; i &lt; 100000; ++i)\n        {\n            // Primary loop\n            for (int c = 0; c &lt; arraySize; ++c)\n            {\n                if (data[c] &gt;= 128)\n                    sum += data[c];\n            }\n        }\n\n        System.out.println((System.nanoTime() - start) / 1000000000.0);\n        System.out.println(\"sum = \" + sum);\n    }\n}\n\n\nWith a somewhat similar but less extreme result.\n\n\n\nMy first thought was that sorting brings the data into the cache, but then I thought how silly that is because the array was just generated.\n\n\nWhat is going on?\nWhy is it faster to process a sorted array than an unsorted array?\nThe code is summing up some independent terms, and the order should not matter.\n\n\n"
     ]
    }
   ],
   "source": [
    "print(questao_sem_tag)"
   ]
  },
  {
   "cell_type": "code",
   "execution_count": 29,
   "metadata": {},
   "outputs": [],
   "source": [
    "# As tags foram removidas mas para remover os trechos de código sera necessario as tags\n",
    "# Refazer a funçao de remocao"
   ]
  },
  {
   "cell_type": "code",
   "execution_count": 30,
   "metadata": {},
   "outputs": [],
   "source": [
    "def substituir_codigo(textos, regex):\n",
    "    if type(textos) == str:\n",
    "        return regex.sub('CODE', textos)\n",
    "    else:\n",
    "        return [regex.sub('CODE', texto) for texto in textos]"
   ]
  },
  {
   "cell_type": "code",
   "execution_count": 32,
   "metadata": {},
   "outputs": [],
   "source": [
    "regex_codigo = re.compile(r'<code>(.|(\\n))*</code>')"
   ]
  },
  {
   "cell_type": "code",
   "execution_count": 35,
   "metadata": {},
   "outputs": [
    {
     "output_type": "stream",
     "name": "stdout",
     "text": [
      "<p>Desenvolvi uma página em PHP para uso interno da empresa que trabalho e apenas pouquíssimas pessoas a utilizam. Através dessa página é possível fazer algumas consultas, inserções, alterações e remoções de dados de uma tabela em um banco de dados MySQL, porém eu acredito que meu código em PHP não está protegido contra injeção de código SQL, por exemplo:</p>\n\n<pre>CODE e logo em seguida ele vai deletar a tabela Produtos.</p>\n\n<p>Como posso melhorar meu código para prevenir essa situação?</p>\n\n"
     ]
    }
   ],
   "source": [
    "questao_sem_code = substituir_codigo(questao_portugues, regex_codigo)\n",
    "print(questao_sem_code)"
   ]
  },
  {
   "cell_type": "code",
   "execution_count": 36,
   "metadata": {},
   "outputs": [],
   "source": [
    "questoes_port_sem_code = substituir_codigo(dados_portugues['Questão'], regex_codigo)\n",
    "questoes_port_sem_code_html = remover(questoes_port_sem_code, regex_html)\n",
    "dados_portugues['sem_code_tag'] = questoes_port_sem_code_html"
   ]
  },
  {
   "cell_type": "code",
   "execution_count": 37,
   "metadata": {},
   "outputs": [
    {
     "output_type": "execute_result",
     "data": {
      "text/plain": [
       "      Id                                             Título  \\\n",
       "0   2402         Como fazer hash de senhas de forma segura?   \n",
       "1   6441  Qual é a diferença entre INNER JOIN e OUTER JOIN?   \n",
       "2    579  Por que não devemos usar funções do tipo mysql_*?   \n",
       "3   2539           As mensagens de erro devem se desculpar?   \n",
       "4  17501  Qual é a diferença de API, biblioteca e Framew...   \n",
       "\n",
       "                                             Questão  \\\n",
       "0  <p>Se eu fizer o <em><a href=\"http://pt.wikipe...   \n",
       "1  <p>Qual é a diferença entre <code>INNER JOIN</...   \n",
       "2  <p>Uma dúvida muito comum é por que devemos pa...   \n",
       "3  <p>É comum encontrar uma mensagem de erro que ...   \n",
       "4  <p>Me parecem termos muito próximos e eventual...   \n",
       "\n",
       "                                         Tags  Pontuação  Visualizações  \\\n",
       "0     <hash><segurança><senhas><criptografia>        350          22367   \n",
       "1                                 <sql><join>        276         176953   \n",
       "2                                <php><mysql>        226           9761   \n",
       "3           <aplicação-web><gui><console><ux>        214           5075   \n",
       "4  <api><framework><terminologia><biblioteca>        193          54191   \n",
       "\n",
       "                                        sem_code_tag  \n",
       "0  Se eu fizer o hash de senhas antes de armazená...  \n",
       "1  Qual é a diferença entre CODE? Podem me dar al...  \n",
       "2  Uma dúvida muito comum é por que devemos parar...  \n",
       "3  É comum encontrar uma mensagem de erro que diz...  \n",
       "4  Me parecem termos muito próximos e eventualmen...  "
      ],
      "text/html": "<div>\n<style scoped>\n    .dataframe tbody tr th:only-of-type {\n        vertical-align: middle;\n    }\n\n    .dataframe tbody tr th {\n        vertical-align: top;\n    }\n\n    .dataframe thead th {\n        text-align: right;\n    }\n</style>\n<table border=\"1\" class=\"dataframe\">\n  <thead>\n    <tr style=\"text-align: right;\">\n      <th></th>\n      <th>Id</th>\n      <th>Título</th>\n      <th>Questão</th>\n      <th>Tags</th>\n      <th>Pontuação</th>\n      <th>Visualizações</th>\n      <th>sem_code_tag</th>\n    </tr>\n  </thead>\n  <tbody>\n    <tr>\n      <th>0</th>\n      <td>2402</td>\n      <td>Como fazer hash de senhas de forma segura?</td>\n      <td>&lt;p&gt;Se eu fizer o &lt;em&gt;&lt;a href=\"http://pt.wikipe...</td>\n      <td>&lt;hash&gt;&lt;segurança&gt;&lt;senhas&gt;&lt;criptografia&gt;</td>\n      <td>350</td>\n      <td>22367</td>\n      <td>Se eu fizer o hash de senhas antes de armazená...</td>\n    </tr>\n    <tr>\n      <th>1</th>\n      <td>6441</td>\n      <td>Qual é a diferença entre INNER JOIN e OUTER JOIN?</td>\n      <td>&lt;p&gt;Qual é a diferença entre &lt;code&gt;INNER JOIN&lt;/...</td>\n      <td>&lt;sql&gt;&lt;join&gt;</td>\n      <td>276</td>\n      <td>176953</td>\n      <td>Qual é a diferença entre CODE? Podem me dar al...</td>\n    </tr>\n    <tr>\n      <th>2</th>\n      <td>579</td>\n      <td>Por que não devemos usar funções do tipo mysql_*?</td>\n      <td>&lt;p&gt;Uma dúvida muito comum é por que devemos pa...</td>\n      <td>&lt;php&gt;&lt;mysql&gt;</td>\n      <td>226</td>\n      <td>9761</td>\n      <td>Uma dúvida muito comum é por que devemos parar...</td>\n    </tr>\n    <tr>\n      <th>3</th>\n      <td>2539</td>\n      <td>As mensagens de erro devem se desculpar?</td>\n      <td>&lt;p&gt;É comum encontrar uma mensagem de erro que ...</td>\n      <td>&lt;aplicação-web&gt;&lt;gui&gt;&lt;console&gt;&lt;ux&gt;</td>\n      <td>214</td>\n      <td>5075</td>\n      <td>É comum encontrar uma mensagem de erro que diz...</td>\n    </tr>\n    <tr>\n      <th>4</th>\n      <td>17501</td>\n      <td>Qual é a diferença de API, biblioteca e Framew...</td>\n      <td>&lt;p&gt;Me parecem termos muito próximos e eventual...</td>\n      <td>&lt;api&gt;&lt;framework&gt;&lt;terminologia&gt;&lt;biblioteca&gt;</td>\n      <td>193</td>\n      <td>54191</td>\n      <td>Me parecem termos muito próximos e eventualmen...</td>\n    </tr>\n  </tbody>\n</table>\n</div>"
     },
     "metadata": {},
     "execution_count": 37
    }
   ],
   "source": [
    "dados_portugues.head()"
   ]
  },
  {
   "cell_type": "code",
   "execution_count": 40,
   "metadata": {},
   "outputs": [
    {
     "output_type": "execute_result",
     "data": {
      "text/plain": [
       "         Id                                             Título  \\\n",
       "0  11227809  Why is it faster to process a sorted array tha...   \n",
       "1    927358  How do I undo the most recent local commits in...   \n",
       "2   2003505  How do I delete a Git branch locally and remot...   \n",
       "3    292357  What is the difference between 'git pull' and ...   \n",
       "4    477816             What is the correct JSON content type?   \n",
       "\n",
       "                                             Questão  \\\n",
       "0  <p>Here is a piece of C++ code that seems very...   \n",
       "1  <p>I accidentally committed the wrong files to...   \n",
       "2  <p>I want to delete a branch both locally and ...   \n",
       "3  <blockquote>\\n  <p><strong>Moderator Note:</st...   \n",
       "4  <p>I've been messing around with <a href=\"http...   \n",
       "\n",
       "                                                Tags  Pontuação  \\\n",
       "0  <java><c++><performance><optimization><branch-...      23057   \n",
       "1           <git><version-control><git-commit><undo>      19640   \n",
       "2                      <git><git-branch><git-remote>      15249   \n",
       "3                         <git><git-pull><git-fetch>      11008   \n",
       "4                 <json><http-headers><content-type>       9701   \n",
       "\n",
       "   Visualizações                                       sem_code_tag  \n",
       "0        1358574  Here is a piece of C++ code that seems very pe...  \n",
       "1        7906137  I accidentally committed the wrong files to Gi...  \n",
       "2        6940906  I want to delete a branch both locally and rem...  \n",
       "3        2543052  \\n  Moderator Note: Given that this question h...  \n",
       "4        2478940  I've been messing around with JSON for some ti...  "
      ],
      "text/html": "<div>\n<style scoped>\n    .dataframe tbody tr th:only-of-type {\n        vertical-align: middle;\n    }\n\n    .dataframe tbody tr th {\n        vertical-align: top;\n    }\n\n    .dataframe thead th {\n        text-align: right;\n    }\n</style>\n<table border=\"1\" class=\"dataframe\">\n  <thead>\n    <tr style=\"text-align: right;\">\n      <th></th>\n      <th>Id</th>\n      <th>Título</th>\n      <th>Questão</th>\n      <th>Tags</th>\n      <th>Pontuação</th>\n      <th>Visualizações</th>\n      <th>sem_code_tag</th>\n    </tr>\n  </thead>\n  <tbody>\n    <tr>\n      <th>0</th>\n      <td>11227809</td>\n      <td>Why is it faster to process a sorted array tha...</td>\n      <td>&lt;p&gt;Here is a piece of C++ code that seems very...</td>\n      <td>&lt;java&gt;&lt;c++&gt;&lt;performance&gt;&lt;optimization&gt;&lt;branch-...</td>\n      <td>23057</td>\n      <td>1358574</td>\n      <td>Here is a piece of C++ code that seems very pe...</td>\n    </tr>\n    <tr>\n      <th>1</th>\n      <td>927358</td>\n      <td>How do I undo the most recent local commits in...</td>\n      <td>&lt;p&gt;I accidentally committed the wrong files to...</td>\n      <td>&lt;git&gt;&lt;version-control&gt;&lt;git-commit&gt;&lt;undo&gt;</td>\n      <td>19640</td>\n      <td>7906137</td>\n      <td>I accidentally committed the wrong files to Gi...</td>\n    </tr>\n    <tr>\n      <th>2</th>\n      <td>2003505</td>\n      <td>How do I delete a Git branch locally and remot...</td>\n      <td>&lt;p&gt;I want to delete a branch both locally and ...</td>\n      <td>&lt;git&gt;&lt;git-branch&gt;&lt;git-remote&gt;</td>\n      <td>15249</td>\n      <td>6940906</td>\n      <td>I want to delete a branch both locally and rem...</td>\n    </tr>\n    <tr>\n      <th>3</th>\n      <td>292357</td>\n      <td>What is the difference between 'git pull' and ...</td>\n      <td>&lt;blockquote&gt;\\n  &lt;p&gt;&lt;strong&gt;Moderator Note:&lt;/st...</td>\n      <td>&lt;git&gt;&lt;git-pull&gt;&lt;git-fetch&gt;</td>\n      <td>11008</td>\n      <td>2543052</td>\n      <td>\\n  Moderator Note: Given that this question h...</td>\n    </tr>\n    <tr>\n      <th>4</th>\n      <td>477816</td>\n      <td>What is the correct JSON content type?</td>\n      <td>&lt;p&gt;I've been messing around with &lt;a href=\"http...</td>\n      <td>&lt;json&gt;&lt;http-headers&gt;&lt;content-type&gt;</td>\n      <td>9701</td>\n      <td>2478940</td>\n      <td>I've been messing around with JSON for some ti...</td>\n    </tr>\n  </tbody>\n</table>\n</div>"
     },
     "metadata": {},
     "execution_count": 40
    }
   ],
   "source": [
    "questoes_eng_sem_code = substituir_codigo(dados_ingles['Questão'], regex_codigo)\n",
    "questoes_eng_sem_code_html = remover(questoes_eng_sem_code, regex_html)\n",
    "dados_ingles['sem_code_tag'] = questoes_eng_sem_code_html\n",
    "dados_ingles.head()"
   ]
  },
  {
   "cell_type": "code",
   "execution_count": 41,
   "metadata": {},
   "outputs": [
    {
     "output_type": "execute_result",
     "data": {
      "text/plain": [
       "      Id                                             Título  \\\n",
       "0  18232              ¿Cómo evitar la inyección SQL en PHP?   \n",
       "1    197  ¿Por qué mis programas no pueden hacer cálculo...   \n",
       "2     36  ¿Cuál es la diferencia entre un inner y un out...   \n",
       "3  29177  ¿Por qué es considerado una mala práctica util...   \n",
       "4    142  Validar un email en JavaScript que acepte todo...   \n",
       "\n",
       "                                             Questão  \\\n",
       "0  <p>Las sentencias dinámicas son sentencias SQL...   \n",
       "1  <p>Unas veces los cálculos funcionan correctam...   \n",
       "2  <p>¿Cuál es la diferencia entre un <code>inner...   \n",
       "3  <p>La mayoría de nosotros decimos, (muchas vec...   \n",
       "4  <h3>Pregunta</h3>\\n\\n<p>¿Cómo validar un e-mai...   \n",
       "\n",
       "                                                Tags  Pontuação  \\\n",
       "0        <php><mysql><sql><seguridad><inyección-sql>        169   \n",
       "1   <matemáticas><coma-flotante><lenguaje-agnóstico>        141   \n",
       "2                                 <mysql><sql><join>         97   \n",
       "3  <variables><variables-globales><patrones-de-di...         89   \n",
       "4             <javascript><validación><email><regex>         87   \n",
       "\n",
       "   Visualizações                                       sem_code_tag  \n",
       "0          38614  Las sentencias dinámicas son sentencias SQL qu...  \n",
       "1           3860  Unas veces los cálculos funcionan correctament...  \n",
       "2          53627            ¿Cuál es la diferencia entre un CODE?\\n  \n",
       "3           9987  La mayoría de nosotros decimos, (muchas veces ...  \n",
       "4          73129  Pregunta\\n\\n¿Cómo validar un e-mail que acepte...  "
      ],
      "text/html": "<div>\n<style scoped>\n    .dataframe tbody tr th:only-of-type {\n        vertical-align: middle;\n    }\n\n    .dataframe tbody tr th {\n        vertical-align: top;\n    }\n\n    .dataframe thead th {\n        text-align: right;\n    }\n</style>\n<table border=\"1\" class=\"dataframe\">\n  <thead>\n    <tr style=\"text-align: right;\">\n      <th></th>\n      <th>Id</th>\n      <th>Título</th>\n      <th>Questão</th>\n      <th>Tags</th>\n      <th>Pontuação</th>\n      <th>Visualizações</th>\n      <th>sem_code_tag</th>\n    </tr>\n  </thead>\n  <tbody>\n    <tr>\n      <th>0</th>\n      <td>18232</td>\n      <td>¿Cómo evitar la inyección SQL en PHP?</td>\n      <td>&lt;p&gt;Las sentencias dinámicas son sentencias SQL...</td>\n      <td>&lt;php&gt;&lt;mysql&gt;&lt;sql&gt;&lt;seguridad&gt;&lt;inyección-sql&gt;</td>\n      <td>169</td>\n      <td>38614</td>\n      <td>Las sentencias dinámicas son sentencias SQL qu...</td>\n    </tr>\n    <tr>\n      <th>1</th>\n      <td>197</td>\n      <td>¿Por qué mis programas no pueden hacer cálculo...</td>\n      <td>&lt;p&gt;Unas veces los cálculos funcionan correctam...</td>\n      <td>&lt;matemáticas&gt;&lt;coma-flotante&gt;&lt;lenguaje-agnóstico&gt;</td>\n      <td>141</td>\n      <td>3860</td>\n      <td>Unas veces los cálculos funcionan correctament...</td>\n    </tr>\n    <tr>\n      <th>2</th>\n      <td>36</td>\n      <td>¿Cuál es la diferencia entre un inner y un out...</td>\n      <td>&lt;p&gt;¿Cuál es la diferencia entre un &lt;code&gt;inner...</td>\n      <td>&lt;mysql&gt;&lt;sql&gt;&lt;join&gt;</td>\n      <td>97</td>\n      <td>53627</td>\n      <td>¿Cuál es la diferencia entre un CODE?\\n</td>\n    </tr>\n    <tr>\n      <th>3</th>\n      <td>29177</td>\n      <td>¿Por qué es considerado una mala práctica util...</td>\n      <td>&lt;p&gt;La mayoría de nosotros decimos, (muchas vec...</td>\n      <td>&lt;variables&gt;&lt;variables-globales&gt;&lt;patrones-de-di...</td>\n      <td>89</td>\n      <td>9987</td>\n      <td>La mayoría de nosotros decimos, (muchas veces ...</td>\n    </tr>\n    <tr>\n      <th>4</th>\n      <td>142</td>\n      <td>Validar un email en JavaScript que acepte todo...</td>\n      <td>&lt;h3&gt;Pregunta&lt;/h3&gt;\\n\\n&lt;p&gt;¿Cómo validar un e-mai...</td>\n      <td>&lt;javascript&gt;&lt;validación&gt;&lt;email&gt;&lt;regex&gt;</td>\n      <td>87</td>\n      <td>73129</td>\n      <td>Pregunta\\n\\n¿Cómo validar un e-mail que acepte...</td>\n    </tr>\n  </tbody>\n</table>\n</div>"
     },
     "metadata": {},
     "execution_count": 41
    }
   ],
   "source": [
    "questoes_esp_sem_code = substituir_codigo(dados_espanhol['Questão'], regex_codigo)\n",
    "questoes_esp_sem_code_html = remover(questoes_esp_sem_code, regex_html)\n",
    "dados_espanhol['sem_code_tag'] = questoes_esp_sem_code_html\n",
    "dados_espanhol.head()"
   ]
  },
  {
   "cell_type": "code",
   "execution_count": 48,
   "metadata": {
    "tags": []
   },
   "outputs": [
    {
     "output_type": "stream",
     "name": "stdout",
     "text": [
      "Las sentencias dinámicas son sentencias SQL que se crean como cadenas de texto strings y en las que se insertanconcatenan valores obtenidos de alguna fuente normalmente proveniente del usuario lo que puede hacer que sean vulnerables a inyección SQL si no se sanean las entradas como por ejemplo\n\nCODE\n\nY se eliminaría la tabla Usuarios con todos los datos contenidos en ella \n\nCómo puedo evitar que la inyección SQL ocurra en PHP\n\n"
     ]
    }
   ],
   "source": [
    "regex_pontuacao = re.compile(r'[^ \\w\\s]')\n",
    "print(remover(questoes_esp_sem_code_html[0], regex_pontuacao))"
   ]
  },
  {
   "cell_type": "code",
   "execution_count": 49,
   "metadata": {},
   "outputs": [
    {
     "output_type": "stream",
     "name": "stdout",
     "text": [
      "las sentencias dinámicas son sentencias sql que se crean como cadenas de texto (strings) y en las que se insertan/concatenan valores obtenidos de alguna fuente (normalmente proveniente del usuario), lo que puede hacer que sean vulnerables a inyección sql si no se sanean las entradas, como por ejemplo:\n\ncode\n\ny se eliminaría la tabla usuarios con todos los datos contenidos en ella. \n\n¿cómo puedo evitar que la inyección sql ocurra en php?\n\n"
     ]
    }
   ],
   "source": [
    "def minusculo(textos):\n",
    "    if type(textos) == str:\n",
    "        return textos.lower()\n",
    "    else:\n",
    "        return [texto.lower() for texto in textos]\n",
    "print(minusculo(questoes_esp_sem_code_html[0]))"
   ]
  },
  {
   "cell_type": "code",
   "execution_count": 50,
   "metadata": {},
   "outputs": [],
   "source": [
    "regex_digitos = re.compile(r'\\d+')"
   ]
  },
  {
   "cell_type": "code",
   "execution_count": null,
   "metadata": {},
   "outputs": [],
   "source": []
  }
 ]
}